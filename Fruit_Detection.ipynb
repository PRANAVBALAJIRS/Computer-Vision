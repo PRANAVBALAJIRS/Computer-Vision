{
  "metadata": {
    "kernelspec": {
      "language": "python",
      "display_name": "Python 3",
      "name": "python3"
    },
    "language_info": {
      "name": "python",
      "version": "3.10.13",
      "mimetype": "text/x-python",
      "codemirror_mode": {
        "name": "ipython",
        "version": 3
      },
      "pygments_lexer": "ipython3",
      "nbconvert_exporter": "python",
      "file_extension": ".py"
    },
    "kaggle": {
      "accelerator": "gpu",
      "dataSources": [
        {
          "sourceId": 46346,
          "sourceType": "datasetVersion",
          "datasetId": 34662
        },
        {
          "sourceId": 7906990,
          "sourceType": "datasetVersion",
          "datasetId": 4644661
        },
        {
          "sourceId": 7908105,
          "sourceType": "datasetVersion",
          "datasetId": 4645475
        },
        {
          "sourceId": 7908132,
          "sourceType": "datasetVersion",
          "datasetId": 4645500
        },
        {
          "sourceId": 7908195,
          "sourceType": "datasetVersion",
          "datasetId": 4645547
        }
      ],
      "dockerImageVersionId": 30674,
      "isInternetEnabled": true,
      "language": "python",
      "sourceType": "notebook",
      "isGpuEnabled": true
    },
    "colab": {
      "provenance": []
    }
  },
  "nbformat_minor": 0,
  "nbformat": 4,
  "cells": [
    {
      "cell_type": "code",
      "source": [
        "!pip install wandb\n",
        "import wandb\n",
        "import os\n",
        "import yaml\n",
        "from shutil import copytree, ignore_patterns\n",
        "import xml.etree.ElementTree as ET"
      ],
      "metadata": {
        "execution": {
          "iopub.status.busy": "2024-03-21T18:40:41.251474Z",
          "iopub.execute_input": "2024-03-21T18:40:41.251819Z",
          "iopub.status.idle": "2024-03-21T18:40:55.329237Z",
          "shell.execute_reply.started": "2024-03-21T18:40:41.251791Z",
          "shell.execute_reply": "2024-03-21T18:40:55.328347Z"
        },
        "trusted": true,
        "id": "KOq46riU1lX_",
        "outputId": "f41d08db-f1a6-4cf1-9b56-ef79714738f4"
      },
      "execution_count": null,
      "outputs": [
        {
          "name": "stdout",
          "text": "Requirement already satisfied: wandb in /opt/conda/lib/python3.10/site-packages (0.16.4)\nRequirement already satisfied: Click!=8.0.0,>=7.1 in /opt/conda/lib/python3.10/site-packages (from wandb) (8.1.7)\nRequirement already satisfied: GitPython!=3.1.29,>=1.0.0 in /opt/conda/lib/python3.10/site-packages (from wandb) (3.1.41)\nRequirement already satisfied: requests<3,>=2.0.0 in /opt/conda/lib/python3.10/site-packages (from wandb) (2.31.0)\nRequirement already satisfied: psutil>=5.0.0 in /opt/conda/lib/python3.10/site-packages (from wandb) (5.9.3)\nRequirement already satisfied: sentry-sdk>=1.0.0 in /opt/conda/lib/python3.10/site-packages (from wandb) (1.42.0)\nRequirement already satisfied: docker-pycreds>=0.4.0 in /opt/conda/lib/python3.10/site-packages (from wandb) (0.4.0)\nRequirement already satisfied: PyYAML in /opt/conda/lib/python3.10/site-packages (from wandb) (6.0.1)\nRequirement already satisfied: setproctitle in /opt/conda/lib/python3.10/site-packages (from wandb) (1.3.3)\nRequirement already satisfied: setuptools in /opt/conda/lib/python3.10/site-packages (from wandb) (69.0.3)\nRequirement already satisfied: appdirs>=1.4.3 in /opt/conda/lib/python3.10/site-packages (from wandb) (1.4.4)\nRequirement already satisfied: protobuf!=4.21.0,<5,>=3.19.0 in /opt/conda/lib/python3.10/site-packages (from wandb) (3.20.3)\nRequirement already satisfied: six>=1.4.0 in /opt/conda/lib/python3.10/site-packages (from docker-pycreds>=0.4.0->wandb) (1.16.0)\nRequirement already satisfied: gitdb<5,>=4.0.1 in /opt/conda/lib/python3.10/site-packages (from GitPython!=3.1.29,>=1.0.0->wandb) (4.0.11)\nRequirement already satisfied: charset-normalizer<4,>=2 in /opt/conda/lib/python3.10/site-packages (from requests<3,>=2.0.0->wandb) (3.3.2)\nRequirement already satisfied: idna<4,>=2.5 in /opt/conda/lib/python3.10/site-packages (from requests<3,>=2.0.0->wandb) (3.6)\nRequirement already satisfied: urllib3<3,>=1.21.1 in /opt/conda/lib/python3.10/site-packages (from requests<3,>=2.0.0->wandb) (1.26.18)\nRequirement already satisfied: certifi>=2017.4.17 in /opt/conda/lib/python3.10/site-packages (from requests<3,>=2.0.0->wandb) (2024.2.2)\nRequirement already satisfied: smmap<6,>=3.0.1 in /opt/conda/lib/python3.10/site-packages (from gitdb<5,>=4.0.1->GitPython!=3.1.29,>=1.0.0->wandb) (5.0.1)\n",
          "output_type": "stream"
        }
      ]
    },
    {
      "cell_type": "code",
      "source": [
        "root_path = '/kaggle/input/fruit-images-for-object-detection/'\n",
        "os.listdir(root_path)"
      ],
      "metadata": {
        "execution": {
          "iopub.status.busy": "2024-03-21T18:40:55.330950Z",
          "iopub.execute_input": "2024-03-21T18:40:55.331242Z",
          "iopub.status.idle": "2024-03-21T18:40:55.340762Z",
          "shell.execute_reply.started": "2024-03-21T18:40:55.331218Z",
          "shell.execute_reply": "2024-03-21T18:40:55.339800Z"
        },
        "trusted": true,
        "id": "7aufpsjr1lYC",
        "outputId": "438e58c4-3b0c-452b-b807-ff5e1a8b9bd1"
      },
      "execution_count": null,
      "outputs": [
        {
          "execution_count": 2,
          "output_type": "execute_result",
          "data": {
            "text/plain": "['train_zip', 'test_zip']"
          },
          "metadata": {}
        }
      ]
    },
    {
      "cell_type": "code",
      "source": [
        "train_data_path = os.path.join(root_path,'train_zip/train')\n",
        "test_data_path = os.path.join(root_path,'test_zip/test')"
      ],
      "metadata": {
        "execution": {
          "iopub.status.busy": "2024-03-21T18:40:55.341879Z",
          "iopub.execute_input": "2024-03-21T18:40:55.342166Z",
          "iopub.status.idle": "2024-03-21T18:40:55.348145Z",
          "shell.execute_reply.started": "2024-03-21T18:40:55.342143Z",
          "shell.execute_reply": "2024-03-21T18:40:55.347232Z"
        },
        "trusted": true,
        "id": "BZvjn2Yu1lYD"
      },
      "execution_count": null,
      "outputs": []
    },
    {
      "cell_type": "code",
      "source": [
        "train_data_description = os.listdir(train_data_path)\n",
        "test_data_description = os.listdir(test_data_path)"
      ],
      "metadata": {
        "execution": {
          "iopub.status.busy": "2024-03-21T18:40:55.350826Z",
          "iopub.execute_input": "2024-03-21T18:40:55.351243Z",
          "iopub.status.idle": "2024-03-21T18:40:55.435748Z",
          "shell.execute_reply.started": "2024-03-21T18:40:55.351212Z",
          "shell.execute_reply": "2024-03-21T18:40:55.434900Z"
        },
        "trusted": true,
        "id": "11vmzjYb1lYD"
      },
      "execution_count": null,
      "outputs": []
    },
    {
      "cell_type": "code",
      "source": [
        "train_annotation_file_paths = [os.path.join(train_data_path,i) for i in train_data_description if '.xml' in i]\n",
        "train_image_file_paths = [os.path.join(train_data_path,i) for i in train_data_description if '.jpg' in i]\n",
        "\n",
        "test_annotation_file_paths = [os.path.join(test_data_path,i) for i in test_data_description if '.xml' in i]\n",
        "test_image_file_paths = [os.path.join(test_data_path,i) for i in test_data_description if '.jpg' in i]"
      ],
      "metadata": {
        "execution": {
          "iopub.status.busy": "2024-03-21T18:40:55.436878Z",
          "iopub.execute_input": "2024-03-21T18:40:55.437151Z",
          "iopub.status.idle": "2024-03-21T18:40:55.444134Z",
          "shell.execute_reply.started": "2024-03-21T18:40:55.437127Z",
          "shell.execute_reply": "2024-03-21T18:40:55.443305Z"
        },
        "trusted": true,
        "id": "DAEhrEr91lYE"
      },
      "execution_count": null,
      "outputs": []
    },
    {
      "cell_type": "code",
      "source": [
        "print(f'length of training Data {len(train_image_file_paths)}, length of test data {len(test_image_file_paths)}')"
      ],
      "metadata": {
        "execution": {
          "iopub.status.busy": "2024-03-21T18:40:55.445229Z",
          "iopub.execute_input": "2024-03-21T18:40:55.445550Z",
          "iopub.status.idle": "2024-03-21T18:40:55.454264Z",
          "shell.execute_reply.started": "2024-03-21T18:40:55.445519Z",
          "shell.execute_reply": "2024-03-21T18:40:55.453364Z"
        },
        "trusted": true,
        "id": "HIw91rm91lYE",
        "outputId": "df80ae87-3c21-44b8-d6b7-557f2e993c5d"
      },
      "execution_count": null,
      "outputs": [
        {
          "name": "stdout",
          "text": "length of training Data 240, length of test data 60\n",
          "output_type": "stream"
        }
      ]
    },
    {
      "cell_type": "code",
      "source": [
        "for i in ['train/labels','test/labels']:\n",
        "    os.makedirs(os.path.join('/kaggle/working/object_detection/',i))"
      ],
      "metadata": {
        "execution": {
          "iopub.status.busy": "2024-03-21T18:40:55.455287Z",
          "iopub.execute_input": "2024-03-21T18:40:55.455626Z",
          "iopub.status.idle": "2024-03-21T18:40:55.464546Z",
          "shell.execute_reply.started": "2024-03-21T18:40:55.455604Z",
          "shell.execute_reply": "2024-03-21T18:40:55.463779Z"
        },
        "trusted": true,
        "id": "-PMSBTOH1lYF"
      },
      "execution_count": null,
      "outputs": []
    },
    {
      "cell_type": "code",
      "source": [
        "copytree(train_data_path,'/kaggle/working/object_detection/train/images/',ignore = ignore_patterns('*.xml'))\n",
        "copytree(test_data_path,'/kaggle/working/object_detection/test/images/',ignore = ignore_patterns('*.xml'))"
      ],
      "metadata": {
        "execution": {
          "iopub.status.busy": "2024-03-21T18:40:55.465533Z",
          "iopub.execute_input": "2024-03-21T18:40:55.466020Z",
          "iopub.status.idle": "2024-03-21T18:40:57.280072Z",
          "shell.execute_reply.started": "2024-03-21T18:40:55.465995Z",
          "shell.execute_reply": "2024-03-21T18:40:57.279094Z"
        },
        "trusted": true,
        "id": "Yet05XiL1lYG",
        "outputId": "eeb127f4-9ea9-4ad9-b438-6e0c02543740"
      },
      "execution_count": null,
      "outputs": [
        {
          "execution_count": 8,
          "output_type": "execute_result",
          "data": {
            "text/plain": "'/kaggle/working/object_detection/test/images/'"
          },
          "metadata": {}
        }
      ]
    },
    {
      "cell_type": "code",
      "source": [
        "def convert_xml_to_txt(label_path,xml_file,class_dict,destination_file):\n",
        "    tree = ET.parse(xml_file)\n",
        "    root = tree.getroot()\n",
        "    x=root.find('filename').text\n",
        "    txt_file = x.replace('.jpg','.txt')\n",
        "    txt_file = os.path.join(destination_file,txt_file)\n",
        "    with open(txt_file,'w') as f:\n",
        "        for obj in root.findall('object'):\n",
        "            class_name = obj.find('name').text\n",
        "            if class_name not in class_dict:\n",
        "                continue\n",
        "            class_id = class_dict[class_name]\n",
        "            bbox = obj.find('bndbox')\n",
        "            xmin = int(bbox.find('xmin').text)\n",
        "            xmax = int(bbox.find('xmax').text)\n",
        "            ymin = int(bbox.find('ymin').text)\n",
        "            ymax = int(bbox.find('ymax').text)\n",
        "\n",
        "            image_width = int(root.find('size/width').text)\n",
        "            image_height = int(root.find('size/height').text)\n",
        "\n",
        "            x_center = (xmin + xmax) / 2 / image_width if image_width != 0 else (xmin + xmax) / 2\n",
        "            y_center = (ymin + ymax) / 2 / image_height if image_height != 0 else (ymin + ymax) / 2\n",
        "            width = (xmax - xmin) / image_width if image_width != 0 else (xmax - xmin)\n",
        "            height = (ymax - ymin) / image_height if image_height != 0 else (ymax - ymin)\n",
        "\n",
        "            line = f\"{class_id} {x_center:.6f} {y_center:.6f} {width:.6f} {height:.6f}\\n\"\n",
        "            f.write(line)"
      ],
      "metadata": {
        "execution": {
          "iopub.status.busy": "2024-03-21T18:40:57.281299Z",
          "iopub.execute_input": "2024-03-21T18:40:57.281654Z",
          "iopub.status.idle": "2024-03-21T18:40:57.294804Z",
          "shell.execute_reply.started": "2024-03-21T18:40:57.281621Z",
          "shell.execute_reply": "2024-03-21T18:40:57.293867Z"
        },
        "trusted": true,
        "id": "-yTH2v2e1lYG"
      },
      "execution_count": null,
      "outputs": []
    },
    {
      "cell_type": "code",
      "source": [
        "class_dict = {'apple':0,'banana':1,'orange':2}\n",
        "\n",
        "\n",
        "dest_path = '/kaggle/working/object_detection/train/labels/'\n",
        "for i in train_annotation_file_paths:\n",
        "    convert_xml_to_txt(train_data_path,i,class_dict,dest_path)\n",
        "\n",
        "\n",
        "dest_path = '/kaggle/working/object_detection/test/labels/'\n",
        "for i in test_annotation_file_paths:\n",
        "    convert_xml_to_txt(test_data_path,i,class_dict,dest_path)"
      ],
      "metadata": {
        "execution": {
          "iopub.status.busy": "2024-03-21T18:40:57.298426Z",
          "iopub.execute_input": "2024-03-21T18:40:57.299102Z",
          "iopub.status.idle": "2024-03-21T18:40:58.383801Z",
          "shell.execute_reply.started": "2024-03-21T18:40:57.299076Z",
          "shell.execute_reply": "2024-03-21T18:40:58.383035Z"
        },
        "trusted": true,
        "id": "HqPgpHcT1lYH"
      },
      "execution_count": null,
      "outputs": []
    },
    {
      "cell_type": "code",
      "source": [
        "yaml_path = \"/kaggle/input/pranavbalajirs/pranavbalajirs.yaml\""
      ],
      "metadata": {
        "execution": {
          "iopub.status.busy": "2024-03-21T18:40:58.384876Z",
          "iopub.execute_input": "2024-03-21T18:40:58.385152Z",
          "iopub.status.idle": "2024-03-21T18:40:58.389155Z",
          "shell.execute_reply.started": "2024-03-21T18:40:58.385128Z",
          "shell.execute_reply": "2024-03-21T18:40:58.388173Z"
        },
        "trusted": true,
        "id": "ZhYkdRwC1lYI"
      },
      "execution_count": null,
      "outputs": []
    },
    {
      "cell_type": "code",
      "source": [
        "!pip install ultralytics"
      ],
      "metadata": {
        "execution": {
          "iopub.status.busy": "2024-03-21T18:40:58.390191Z",
          "iopub.execute_input": "2024-03-21T18:40:58.390461Z",
          "iopub.status.idle": "2024-03-21T18:41:11.720746Z",
          "shell.execute_reply.started": "2024-03-21T18:40:58.390431Z",
          "shell.execute_reply": "2024-03-21T18:41:11.719623Z"
        },
        "trusted": true,
        "id": "A0Mo76Zd1lYI",
        "outputId": "33392b3e-d878-43e7-cdd5-81e3b274c0db"
      },
      "execution_count": null,
      "outputs": [
        {
          "name": "stdout",
          "text": "Collecting ultralytics\n  Downloading ultralytics-8.1.30-py3-none-any.whl.metadata (40 kB)\n\u001b[2K     \u001b[90m━━━━━━━━━━━━━━━━━━━━━━━━━━━━━━━━━━━━━━━━\u001b[0m \u001b[32m40.3/40.3 kB\u001b[0m \u001b[31m1.9 MB/s\u001b[0m eta \u001b[36m0:00:00\u001b[0m\n\u001b[?25hRequirement already satisfied: matplotlib>=3.3.0 in /opt/conda/lib/python3.10/site-packages (from ultralytics) (3.7.5)\nRequirement already satisfied: opencv-python>=4.6.0 in /opt/conda/lib/python3.10/site-packages (from ultralytics) (4.9.0.80)\nRequirement already satisfied: pillow>=7.1.2 in /opt/conda/lib/python3.10/site-packages (from ultralytics) (9.5.0)\nRequirement already satisfied: pyyaml>=5.3.1 in /opt/conda/lib/python3.10/site-packages (from ultralytics) (6.0.1)\nRequirement already satisfied: requests>=2.23.0 in /opt/conda/lib/python3.10/site-packages (from ultralytics) (2.31.0)\nRequirement already satisfied: scipy>=1.4.1 in /opt/conda/lib/python3.10/site-packages (from ultralytics) (1.11.4)\nRequirement already satisfied: torch>=1.8.0 in /opt/conda/lib/python3.10/site-packages (from ultralytics) (2.1.2)\nRequirement already satisfied: torchvision>=0.9.0 in /opt/conda/lib/python3.10/site-packages (from ultralytics) (0.16.2)\nRequirement already satisfied: tqdm>=4.64.0 in /opt/conda/lib/python3.10/site-packages (from ultralytics) (4.66.1)\nRequirement already satisfied: psutil in /opt/conda/lib/python3.10/site-packages (from ultralytics) (5.9.3)\nRequirement already satisfied: py-cpuinfo in /opt/conda/lib/python3.10/site-packages (from ultralytics) (9.0.0)\nCollecting thop>=0.1.1 (from ultralytics)\n  Downloading thop-0.1.1.post2209072238-py3-none-any.whl.metadata (2.7 kB)\nRequirement already satisfied: pandas>=1.1.4 in /opt/conda/lib/python3.10/site-packages (from ultralytics) (2.1.4)\nRequirement already satisfied: seaborn>=0.11.0 in /opt/conda/lib/python3.10/site-packages (from ultralytics) (0.12.2)\nRequirement already satisfied: contourpy>=1.0.1 in /opt/conda/lib/python3.10/site-packages (from matplotlib>=3.3.0->ultralytics) (1.2.0)\nRequirement already satisfied: cycler>=0.10 in /opt/conda/lib/python3.10/site-packages (from matplotlib>=3.3.0->ultralytics) (0.12.1)\nRequirement already satisfied: fonttools>=4.22.0 in /opt/conda/lib/python3.10/site-packages (from matplotlib>=3.3.0->ultralytics) (4.47.0)\nRequirement already satisfied: kiwisolver>=1.0.1 in /opt/conda/lib/python3.10/site-packages (from matplotlib>=3.3.0->ultralytics) (1.4.5)\nRequirement already satisfied: numpy<2,>=1.20 in /opt/conda/lib/python3.10/site-packages (from matplotlib>=3.3.0->ultralytics) (1.26.4)\nRequirement already satisfied: packaging>=20.0 in /opt/conda/lib/python3.10/site-packages (from matplotlib>=3.3.0->ultralytics) (21.3)\nRequirement already satisfied: pyparsing>=2.3.1 in /opt/conda/lib/python3.10/site-packages (from matplotlib>=3.3.0->ultralytics) (3.1.1)\nRequirement already satisfied: python-dateutil>=2.7 in /opt/conda/lib/python3.10/site-packages (from matplotlib>=3.3.0->ultralytics) (2.9.0.post0)\nRequirement already satisfied: pytz>=2020.1 in /opt/conda/lib/python3.10/site-packages (from pandas>=1.1.4->ultralytics) (2023.3.post1)\nRequirement already satisfied: tzdata>=2022.1 in /opt/conda/lib/python3.10/site-packages (from pandas>=1.1.4->ultralytics) (2023.4)\nRequirement already satisfied: charset-normalizer<4,>=2 in /opt/conda/lib/python3.10/site-packages (from requests>=2.23.0->ultralytics) (3.3.2)\nRequirement already satisfied: idna<4,>=2.5 in /opt/conda/lib/python3.10/site-packages (from requests>=2.23.0->ultralytics) (3.6)\nRequirement already satisfied: urllib3<3,>=1.21.1 in /opt/conda/lib/python3.10/site-packages (from requests>=2.23.0->ultralytics) (1.26.18)\nRequirement already satisfied: certifi>=2017.4.17 in /opt/conda/lib/python3.10/site-packages (from requests>=2.23.0->ultralytics) (2024.2.2)\nRequirement already satisfied: filelock in /opt/conda/lib/python3.10/site-packages (from torch>=1.8.0->ultralytics) (3.13.1)\nRequirement already satisfied: typing-extensions in /opt/conda/lib/python3.10/site-packages (from torch>=1.8.0->ultralytics) (4.9.0)\nRequirement already satisfied: sympy in /opt/conda/lib/python3.10/site-packages (from torch>=1.8.0->ultralytics) (1.12)\nRequirement already satisfied: networkx in /opt/conda/lib/python3.10/site-packages (from torch>=1.8.0->ultralytics) (3.2.1)\nRequirement already satisfied: jinja2 in /opt/conda/lib/python3.10/site-packages (from torch>=1.8.0->ultralytics) (3.1.2)\nRequirement already satisfied: fsspec in /opt/conda/lib/python3.10/site-packages (from torch>=1.8.0->ultralytics) (2024.3.0)\nRequirement already satisfied: six>=1.5 in /opt/conda/lib/python3.10/site-packages (from python-dateutil>=2.7->matplotlib>=3.3.0->ultralytics) (1.16.0)\nRequirement already satisfied: MarkupSafe>=2.0 in /opt/conda/lib/python3.10/site-packages (from jinja2->torch>=1.8.0->ultralytics) (2.1.3)\nRequirement already satisfied: mpmath>=0.19 in /opt/conda/lib/python3.10/site-packages (from sympy->torch>=1.8.0->ultralytics) (1.3.0)\nDownloading ultralytics-8.1.30-py3-none-any.whl (722 kB)\n\u001b[2K   \u001b[90m━━━━━━━━━━━━━━━━━━━━━━━━━━━━━━━━━━━━━━━━\u001b[0m \u001b[32m722.0/722.0 kB\u001b[0m \u001b[31m18.4 MB/s\u001b[0m eta \u001b[36m0:00:00\u001b[0m00:01\u001b[0m\n\u001b[?25hDownloading thop-0.1.1.post2209072238-py3-none-any.whl (15 kB)\nInstalling collected packages: thop, ultralytics\nSuccessfully installed thop-0.1.1.post2209072238 ultralytics-8.1.30\n",
          "output_type": "stream"
        }
      ]
    },
    {
      "cell_type": "code",
      "source": [
        "from ultralytics import YOLO\n",
        "model = YOLO('yolov8n.yaml')"
      ],
      "metadata": {
        "execution": {
          "iopub.status.busy": "2024-03-21T18:41:11.722462Z",
          "iopub.execute_input": "2024-03-21T18:41:11.723294Z",
          "iopub.status.idle": "2024-03-21T18:41:19.989567Z",
          "shell.execute_reply.started": "2024-03-21T18:41:11.723252Z",
          "shell.execute_reply": "2024-03-21T18:41:19.988572Z"
        },
        "trusted": true,
        "id": "PNRVq_Bv1lYJ"
      },
      "execution_count": null,
      "outputs": []
    },
    {
      "cell_type": "code",
      "source": [
        "wandb.login(key='7f57f2919952083b65dd6978e611ea7a88a22160')"
      ],
      "metadata": {
        "execution": {
          "iopub.status.busy": "2024-03-21T18:41:19.990953Z",
          "iopub.execute_input": "2024-03-21T18:41:19.991555Z",
          "iopub.status.idle": "2024-03-21T18:41:22.061745Z",
          "shell.execute_reply.started": "2024-03-21T18:41:19.991516Z",
          "shell.execute_reply": "2024-03-21T18:41:22.060897Z"
        },
        "trusted": true,
        "id": "xNEc812W1lYJ",
        "outputId": "7dc67af8-5b95-4377-b314-0a584550175c"
      },
      "execution_count": null,
      "outputs": [
        {
          "name": "stderr",
          "text": "\u001b[34m\u001b[1mwandb\u001b[0m: W&B API key is configured. Use \u001b[1m`wandb login --relogin`\u001b[0m to force relogin\n\u001b[34m\u001b[1mwandb\u001b[0m: \u001b[33mWARNING\u001b[0m If you're specifying your api key in code, ensure this code is not shared publicly.\n\u001b[34m\u001b[1mwandb\u001b[0m: \u001b[33mWARNING\u001b[0m Consider setting the WANDB_API_KEY environment variable, or running `wandb login` from the command line.\n\u001b[34m\u001b[1mwandb\u001b[0m: Appending key for api.wandb.ai to your netrc file: /root/.netrc\n",
          "output_type": "stream"
        },
        {
          "execution_count": 14,
          "output_type": "execute_result",
          "data": {
            "text/plain": "True"
          },
          "metadata": {}
        }
      ]
    },
    {
      "cell_type": "code",
      "source": [
        "results = model.train(data=yaml_path, epochs=50, batch=4)"
      ],
      "metadata": {
        "execution": {
          "iopub.status.busy": "2024-03-21T18:41:22.062917Z",
          "iopub.execute_input": "2024-03-21T18:41:22.063359Z",
          "iopub.status.idle": "2024-03-21T18:48:20.725461Z",
          "shell.execute_reply.started": "2024-03-21T18:41:22.063335Z",
          "shell.execute_reply": "2024-03-21T18:48:20.724253Z"
        },
        "trusted": true,
        "id": "dhNuyjgW1lYK",
        "outputId": "a8f5a33e-6c83-4b16-96e7-bf7b4ebd8cb9",
        "colab": {
          "referenced_widgets": [
            ""
          ]
        }
      },
      "execution_count": null,
      "outputs": [
        {
          "name": "stdout",
          "text": "Ultralytics YOLOv8.1.30 🚀 Python-3.10.13 torch-2.1.2 CUDA:0 (Tesla P100-PCIE-16GB, 16276MiB)\n\u001b[34m\u001b[1mengine/trainer: \u001b[0mtask=detect, mode=train, model=yolov8n.yaml, data=/kaggle/input/pranavbalajirs/pranavbalajirs.yaml, epochs=50, time=None, patience=100, batch=4, imgsz=640, save=True, save_period=-1, cache=False, device=None, workers=8, project=None, name=train, exist_ok=False, pretrained=True, optimizer=auto, verbose=True, seed=0, deterministic=True, single_cls=False, rect=False, cos_lr=False, close_mosaic=10, resume=False, amp=True, fraction=1.0, profile=False, freeze=None, multi_scale=False, overlap_mask=True, mask_ratio=4, dropout=0.0, val=True, split=val, save_json=False, save_hybrid=False, conf=None, iou=0.7, max_det=300, half=False, dnn=False, plots=True, source=None, vid_stride=1, stream_buffer=False, visualize=False, augment=False, agnostic_nms=False, classes=None, retina_masks=False, embed=None, show=False, save_frames=False, save_txt=False, save_conf=False, save_crop=False, show_labels=True, show_conf=True, show_boxes=True, line_width=None, format=torchscript, keras=False, optimize=False, int8=False, dynamic=False, simplify=False, opset=None, workspace=4, nms=False, lr0=0.01, lrf=0.01, momentum=0.937, weight_decay=0.0005, warmup_epochs=3.0, warmup_momentum=0.8, warmup_bias_lr=0.1, box=7.5, cls=0.5, dfl=1.5, pose=12.0, kobj=1.0, label_smoothing=0.0, nbs=64, hsv_h=0.015, hsv_s=0.7, hsv_v=0.4, degrees=0.0, translate=0.1, scale=0.5, shear=0.0, perspective=0.0, flipud=0.0, fliplr=0.5, mosaic=1.0, mixup=0.0, copy_paste=0.0, auto_augment=randaugment, erasing=0.4, crop_fraction=1.0, cfg=None, tracker=botsort.yaml, save_dir=runs/detect/train\nDownloading https://ultralytics.com/assets/Arial.ttf to '/root/.config/Ultralytics/Arial.ttf'...\n",
          "output_type": "stream"
        },
        {
          "name": "stderr",
          "text": "100%|██████████| 755k/755k [00:00<00:00, 26.9MB/s]\n2024-03-21 18:41:24,708\tINFO util.py:124 -- Outdated packages:\n  ipywidgets==7.7.1 found, needs ipywidgets>=8\nRun `pip install -U ipywidgets`, then restart the notebook server for rich notebook output.\n2024-03-21 18:41:25,552\tINFO util.py:124 -- Outdated packages:\n  ipywidgets==7.7.1 found, needs ipywidgets>=8\nRun `pip install -U ipywidgets`, then restart the notebook server for rich notebook output.\n2024-03-21 18:41:28.055832: E external/local_xla/xla/stream_executor/cuda/cuda_dnn.cc:9261] Unable to register cuDNN factory: Attempting to register factory for plugin cuDNN when one has already been registered\n2024-03-21 18:41:28.055938: E external/local_xla/xla/stream_executor/cuda/cuda_fft.cc:607] Unable to register cuFFT factory: Attempting to register factory for plugin cuFFT when one has already been registered\n2024-03-21 18:41:28.189502: E external/local_xla/xla/stream_executor/cuda/cuda_blas.cc:1515] Unable to register cuBLAS factory: Attempting to register factory for plugin cuBLAS when one has already been registered\n",
          "output_type": "stream"
        },
        {
          "name": "stdout",
          "text": "Overriding model.yaml nc=80 with nc=3\n\n                   from  n    params  module                                       arguments                     \n  0                  -1  1       464  ultralytics.nn.modules.conv.Conv             [3, 16, 3, 2]                 \n  1                  -1  1      4672  ultralytics.nn.modules.conv.Conv             [16, 32, 3, 2]                \n  2                  -1  1      7360  ultralytics.nn.modules.block.C2f             [32, 32, 1, True]             \n  3                  -1  1     18560  ultralytics.nn.modules.conv.Conv             [32, 64, 3, 2]                \n  4                  -1  2     49664  ultralytics.nn.modules.block.C2f             [64, 64, 2, True]             \n  5                  -1  1     73984  ultralytics.nn.modules.conv.Conv             [64, 128, 3, 2]               \n  6                  -1  2    197632  ultralytics.nn.modules.block.C2f             [128, 128, 2, True]           \n  7                  -1  1    295424  ultralytics.nn.modules.conv.Conv             [128, 256, 3, 2]              \n  8                  -1  1    460288  ultralytics.nn.modules.block.C2f             [256, 256, 1, True]           \n  9                  -1  1    164608  ultralytics.nn.modules.block.SPPF            [256, 256, 5]                 \n 10                  -1  1         0  torch.nn.modules.upsampling.Upsample         [None, 2, 'nearest']          \n 11             [-1, 6]  1         0  ultralytics.nn.modules.conv.Concat           [1]                           \n 12                  -1  1    148224  ultralytics.nn.modules.block.C2f             [384, 128, 1]                 \n 13                  -1  1         0  torch.nn.modules.upsampling.Upsample         [None, 2, 'nearest']          \n 14             [-1, 4]  1         0  ultralytics.nn.modules.conv.Concat           [1]                           \n 15                  -1  1     37248  ultralytics.nn.modules.block.C2f             [192, 64, 1]                  \n 16                  -1  1     36992  ultralytics.nn.modules.conv.Conv             [64, 64, 3, 2]                \n 17            [-1, 12]  1         0  ultralytics.nn.modules.conv.Concat           [1]                           \n 18                  -1  1    123648  ultralytics.nn.modules.block.C2f             [192, 128, 1]                 \n 19                  -1  1    147712  ultralytics.nn.modules.conv.Conv             [128, 128, 3, 2]              \n 20             [-1, 9]  1         0  ultralytics.nn.modules.conv.Concat           [1]                           \n 21                  -1  1    493056  ultralytics.nn.modules.block.C2f             [384, 256, 1]                 \n 22        [15, 18, 21]  1    751897  ultralytics.nn.modules.head.Detect           [3, [64, 128, 256]]           \nYOLOv8n summary: 225 layers, 3011433 parameters, 3011417 gradients, 8.2 GFLOPs\n\n\u001b[34m\u001b[1mTensorBoard: \u001b[0mStart with 'tensorboard --logdir runs/detect/train', view at http://localhost:6006/\n",
          "output_type": "stream"
        },
        {
          "name": "stderr",
          "text": "\u001b[34m\u001b[1mwandb\u001b[0m: Currently logged in as: \u001b[33mcoinershot\u001b[0m. Use \u001b[1m`wandb login --relogin`\u001b[0m to force relogin\n",
          "output_type": "stream"
        },
        {
          "output_type": "display_data",
          "data": {
            "text/plain": "<IPython.core.display.HTML object>",
            "text/html": "Tracking run with wandb version 0.16.4"
          },
          "metadata": {}
        },
        {
          "output_type": "display_data",
          "data": {
            "text/plain": "<IPython.core.display.HTML object>",
            "text/html": "Run data is saved locally in <code>/kaggle/working/wandb/run-20240321_184136-banw1lc0</code>"
          },
          "metadata": {}
        },
        {
          "output_type": "display_data",
          "data": {
            "text/plain": "<IPython.core.display.HTML object>",
            "text/html": "Syncing run <strong><a href='https://wandb.ai/coinershot/YOLOv8/runs/banw1lc0' target=\"_blank\">train</a></strong> to <a href='https://wandb.ai/coinershot/YOLOv8' target=\"_blank\">Weights & Biases</a> (<a href='https://wandb.me/run' target=\"_blank\">docs</a>)<br/>"
          },
          "metadata": {}
        },
        {
          "output_type": "display_data",
          "data": {
            "text/plain": "<IPython.core.display.HTML object>",
            "text/html": " View project at <a href='https://wandb.ai/coinershot/YOLOv8' target=\"_blank\">https://wandb.ai/coinershot/YOLOv8</a>"
          },
          "metadata": {}
        },
        {
          "output_type": "display_data",
          "data": {
            "text/plain": "<IPython.core.display.HTML object>",
            "text/html": " View run at <a href='https://wandb.ai/coinershot/YOLOv8/runs/banw1lc0' target=\"_blank\">https://wandb.ai/coinershot/YOLOv8/runs/banw1lc0</a>"
          },
          "metadata": {}
        },
        {
          "name": "stdout",
          "text": "Freezing layer 'model.22.dfl.conv.weight'\n\u001b[34m\u001b[1mAMP: \u001b[0mrunning Automatic Mixed Precision (AMP) checks with YOLOv8n...\nDownloading https://github.com/ultralytics/assets/releases/download/v8.1.0/yolov8n.pt to 'yolov8n.pt'...\n",
          "output_type": "stream"
        },
        {
          "name": "stderr",
          "text": "100%|██████████| 6.23M/6.23M [00:00<00:00, 91.9MB/s]\n",
          "output_type": "stream"
        },
        {
          "name": "stdout",
          "text": "\u001b[34m\u001b[1mAMP: \u001b[0mchecks passed ✅\n",
          "output_type": "stream"
        },
        {
          "name": "stderr",
          "text": "\u001b[34m\u001b[1mtrain: \u001b[0mScanning /kaggle/working/object_detection/train/labels... 240 images, 0 backgrounds, 33 corrupt: 100%|██████████| 240/240 [00:00<00:00, 1037.13it/s]",
          "output_type": "stream"
        },
        {
          "name": "stdout",
          "text": "\u001b[34m\u001b[1mtrain: \u001b[0mWARNING ⚠️ /kaggle/working/object_detection/train/images/apple_1.jpg: ignoring corrupt image/label: non-normalized or out of bounds coordinates [      169.5         182         323         334]\n\u001b[34m\u001b[1mtrain: \u001b[0mWARNING ⚠️ /kaggle/working/object_detection/train/images/apple_17.jpg: ignoring corrupt image/label: non-normalized or out of bounds coordinates [        348         479         470         442]\n\u001b[34m\u001b[1mtrain: \u001b[0mWARNING ⚠️ /kaggle/working/object_detection/train/images/apple_20.jpg: ignoring corrupt image/label: non-normalized or out of bounds coordinates [      240.5         276         435         442]\n\u001b[34m\u001b[1mtrain: \u001b[0mWARNING ⚠️ /kaggle/working/object_detection/train/images/apple_28.jpg: ignoring corrupt image/label: non-normalized or out of bounds coordinates [        150       169.5         250         255]\n\u001b[34m\u001b[1mtrain: \u001b[0mWARNING ⚠️ /kaggle/working/object_detection/train/images/apple_37.jpg: ignoring corrupt image/label: non-normalized or out of bounds coordinates [      179.5         191         287         286]\n\u001b[34m\u001b[1mtrain: \u001b[0mWARNING ⚠️ /kaggle/working/object_detection/train/images/apple_42.jpg: ignoring corrupt image/label: non-normalized or out of bounds coordinates [        242       264.5         406         419]\n\u001b[34m\u001b[1mtrain: \u001b[0mWARNING ⚠️ /kaggle/working/object_detection/train/images/apple_43.jpg: ignoring corrupt image/label: non-normalized or out of bounds coordinates [        414         375         420         442]\n\u001b[34m\u001b[1mtrain: \u001b[0mWARNING ⚠️ /kaggle/working/object_detection/train/images/apple_44.jpg: ignoring corrupt image/label: non-normalized or out of bounds coordinates [        170         171         298         288]\n\u001b[34m\u001b[1mtrain: \u001b[0mWARNING ⚠️ /kaggle/working/object_detection/train/images/apple_62.jpg: corrupt JPEG restored and saved\n\u001b[34m\u001b[1mtrain: \u001b[0mWARNING ⚠️ /kaggle/working/object_detection/train/images/apple_8.jpg: ignoring corrupt image/label: non-normalized or out of bounds coordinates [      144.5        81.5         155         147]\n\u001b[34m\u001b[1mtrain: \u001b[0mWARNING ⚠️ /kaggle/working/object_detection/train/images/banana_25.jpg: ignoring corrupt image/label: non-normalized or out of bounds coordinates [        172         398         292         116]\n\u001b[34m\u001b[1mtrain: \u001b[0mWARNING ⚠️ /kaggle/working/object_detection/train/images/banana_35.jpg: ignoring corrupt image/label: non-normalized or out of bounds coordinates [      158.5         137         169         108]\n\u001b[34m\u001b[1mtrain: \u001b[0mWARNING ⚠️ /kaggle/working/object_detection/train/images/banana_53.jpg: ignoring corrupt image/label: non-normalized or out of bounds coordinates [      206.5         263         405         342]\n\u001b[34m\u001b[1mtrain: \u001b[0mWARNING ⚠️ /kaggle/working/object_detection/train/images/banana_57.jpg: ignoring corrupt image/label: non-normalized or out of bounds coordinates [       1238        2570        2456        3890]\n\u001b[34m\u001b[1mtrain: \u001b[0mWARNING ⚠️ /kaggle/working/object_detection/train/images/banana_60.jpg: ignoring corrupt image/label: non-normalized or out of bounds coordinates [      301.5       245.5         581         405       311.5       415.5         575         483]\n\u001b[34m\u001b[1mtrain: \u001b[0mWARNING ⚠️ /kaggle/working/object_detection/train/images/banana_71.jpg: ignoring corrupt image/label: non-normalized or out of bounds coordinates [      243.5          99         319         112]\n\u001b[34m\u001b[1mtrain: \u001b[0mWARNING ⚠️ /kaggle/working/object_detection/train/images/banana_72.jpg: ignoring corrupt image/label: non-normalized or out of bounds coordinates [        884       663.5        1654         897      1234.5         798        1513        1068       797.5       478.5        1593         579]\n\u001b[34m\u001b[1mtrain: \u001b[0mWARNING ⚠️ /kaggle/working/object_detection/train/images/banana_75.jpg: ignoring corrupt image/label: non-normalized or out of bounds coordinates [        242       168.5         196         245]\n\u001b[34m\u001b[1mtrain: \u001b[0mWARNING ⚠️ /kaggle/working/object_detection/train/images/mixed_16.jpg: ignoring corrupt image/label: non-normalized or out of bounds coordinates [      339.5         173         173         172       167.5       234.5         285         283         185        85.5         164         161]\n\u001b[34m\u001b[1mtrain: \u001b[0mWARNING ⚠️ /kaggle/working/object_detection/train/images/orange_1.jpg: ignoring corrupt image/label: non-normalized or out of bounds coordinates [      156.5       202.5         137         159         147       117.5         136         139         488       190.5         132         145       521.5         118         149         130       386.5         147         143         144       315.5         198         151         142       242.5          95\n         133         126]\n\u001b[34m\u001b[1mtrain: \u001b[0mWARNING ⚠️ /kaggle/working/object_detection/train/images/orange_11.jpg: ignoring corrupt image/label: non-normalized or out of bounds coordinates [      266.5       423.5         531         505]\n\u001b[34m\u001b[1mtrain: \u001b[0mWARNING ⚠️ /kaggle/working/object_detection/train/images/orange_13.jpg: ignoring corrupt image/label: non-normalized or out of bounds coordinates [      138.5         123         229         224]\n\u001b[34m\u001b[1mtrain: \u001b[0mWARNING ⚠️ /kaggle/working/object_detection/train/images/orange_18.jpg: ignoring corrupt image/label: non-normalized or out of bounds coordinates [        151       155.5         280         301]\n\u001b[34m\u001b[1mtrain: \u001b[0mWARNING ⚠️ /kaggle/working/object_detection/train/images/orange_22.jpg: ignoring corrupt image/label: non-normalized or out of bounds coordinates [        303       280.5         456         369]\n\u001b[34m\u001b[1mtrain: \u001b[0mWARNING ⚠️ /kaggle/working/object_detection/train/images/orange_30.jpg: ignoring corrupt image/label: non-normalized or out of bounds coordinates [      348.5         380         513         512]\n\u001b[34m\u001b[1mtrain: \u001b[0mWARNING ⚠️ /kaggle/working/object_detection/train/images/orange_35.jpg: ignoring corrupt image/label: non-normalized or out of bounds coordinates [        129         167         248         256]\n\u001b[34m\u001b[1mtrain: \u001b[0mWARNING ⚠️ /kaggle/working/object_detection/train/images/orange_4.jpg: ignoring corrupt image/label: non-normalized or out of bounds coordinates [        319         294         454         456]\n\u001b[34m\u001b[1mtrain: \u001b[0mWARNING ⚠️ /kaggle/working/object_detection/train/images/orange_42.jpg: ignoring corrupt image/label: non-normalized or out of bounds coordinates [     1035.5        1009        1867        1820]\n\u001b[34m\u001b[1mtrain: \u001b[0mWARNING ⚠️ /kaggle/working/object_detection/train/images/orange_50.jpg: ignoring corrupt image/label: non-normalized or out of bounds coordinates [        385       182.5         246         261]\n\u001b[34m\u001b[1mtrain: \u001b[0mWARNING ⚠️ /kaggle/working/object_detection/train/images/orange_51.jpg: ignoring corrupt image/label: non-normalized or out of bounds coordinates [      413.5         203         301         320]\n\u001b[34m\u001b[1mtrain: \u001b[0mWARNING ⚠️ /kaggle/working/object_detection/train/images/orange_59.jpg: ignoring corrupt image/label: non-normalized or out of bounds coordinates [      102.5       196.5         201         205]\n\u001b[34m\u001b[1mtrain: \u001b[0mWARNING ⚠️ /kaggle/working/object_detection/train/images/orange_64.jpg: ignoring corrupt image/label: non-normalized or out of bounds coordinates [        199         283         224         242]\n\u001b[34m\u001b[1mtrain: \u001b[0mWARNING ⚠️ /kaggle/working/object_detection/train/images/orange_68.jpg: ignoring corrupt image/label: non-normalized or out of bounds coordinates [      379.5       256.5         431         441]\n\u001b[34m\u001b[1mtrain: \u001b[0mWARNING ⚠️ /kaggle/working/object_detection/train/images/orange_70.jpg: ignoring corrupt image/label: non-normalized or out of bounds coordinates [        537       289.5         338         361         234       250.5         352         363]\n\u001b[34m\u001b[1mtrain: \u001b[0mNew cache created: /kaggle/working/object_detection/train/labels.cache\n",
          "output_type": "stream"
        },
        {
          "name": "stderr",
          "text": "\n",
          "output_type": "stream"
        },
        {
          "name": "stdout",
          "text": "\u001b[34m\u001b[1malbumentations: \u001b[0mBlur(p=0.01, blur_limit=(3, 7)), MedianBlur(p=0.01, blur_limit=(3, 7)), ToGray(p=0.01), CLAHE(p=0.01, clip_limit=(1, 4.0), tile_grid_size=(8, 8))\n",
          "output_type": "stream"
        },
        {
          "name": "stderr",
          "text": "\u001b[34m\u001b[1mval: \u001b[0mScanning /kaggle/working/object_detection/test/labels... 60 images, 0 backgrounds, 4 corrupt: 100%|██████████| 60/60 [00:00<00:00, 1164.20it/s]",
          "output_type": "stream"
        },
        {
          "name": "stdout",
          "text": "\u001b[34m\u001b[1mval: \u001b[0mWARNING ⚠️ /kaggle/working/object_detection/test/images/apple_79.jpg: ignoring corrupt image/label: non-normalized or out of bounds coordinates [        359       449.5         564         533]\n\u001b[34m\u001b[1mval: \u001b[0mWARNING ⚠️ /kaggle/working/object_detection/test/images/apple_92.jpg: ignoring corrupt image/label: non-normalized or out of bounds coordinates [      308.5         296         463         444]\n\u001b[34m\u001b[1mval: \u001b[0mWARNING ⚠️ /kaggle/working/object_detection/test/images/banana_87.jpg: ignoring corrupt image/label: non-normalized or out of bounds coordinates [      489.5       155.5         213         305         389       145.5         248         261         639       183.5         246         263         729       183.5         180         283]\n\u001b[34m\u001b[1mval: \u001b[0mWARNING ⚠️ /kaggle/working/object_detection/test/images/orange_94.jpg: ignoring corrupt image/label: non-normalized or out of bounds coordinates [      241.5         164         261         226]\n\u001b[34m\u001b[1mval: \u001b[0mNew cache created: /kaggle/working/object_detection/test/labels.cache\n",
          "output_type": "stream"
        },
        {
          "name": "stderr",
          "text": "\n",
          "output_type": "stream"
        },
        {
          "name": "stdout",
          "text": "Plotting labels to runs/detect/train/labels.jpg... \n\u001b[34m\u001b[1moptimizer:\u001b[0m 'optimizer=auto' found, ignoring 'lr0=0.01' and 'momentum=0.937' and determining best 'optimizer', 'lr0' and 'momentum' automatically... \n\u001b[34m\u001b[1moptimizer:\u001b[0m AdamW(lr=0.001429, momentum=0.9) with parameter groups 57 weight(decay=0.0), 64 weight(decay=0.0005), 63 bias(decay=0.0)\n\u001b[34m\u001b[1mTensorBoard: \u001b[0mmodel graph visualization added ✅\nImage sizes 640 train, 640 val\nUsing 4 dataloader workers\nLogging results to \u001b[1mruns/detect/train\u001b[0m\nStarting training for 50 epochs...\n\n      Epoch    GPU_mem   box_loss   cls_loss   dfl_loss  Instances       Size\n",
          "output_type": "stream"
        },
        {
          "name": "stderr",
          "text": "       1/50      0.74G      2.965      3.978        4.2         12        640: 100%|██████████| 52/52 [00:08<00:00,  6.50it/s]\n                 Class     Images  Instances      Box(P          R      mAP50  mAP50-95): 100%|██████████| 7/7 [00:02<00:00,  3.08it/s]",
          "output_type": "stream"
        },
        {
          "name": "stdout",
          "text": "                   all         56        110    0.00574      0.744    0.00713    0.00225\n",
          "output_type": "stream"
        },
        {
          "name": "stderr",
          "text": "\n",
          "output_type": "stream"
        },
        {
          "name": "stdout",
          "text": "\n      Epoch    GPU_mem   box_loss   cls_loss   dfl_loss  Instances       Size\n",
          "output_type": "stream"
        },
        {
          "name": "stderr",
          "text": "       2/50     0.761G      2.969      3.856      4.083         18        640: 100%|██████████| 52/52 [00:05<00:00,  9.37it/s]\n                 Class     Images  Instances      Box(P          R      mAP50  mAP50-95): 100%|██████████| 7/7 [00:00<00:00, 13.43it/s]",
          "output_type": "stream"
        },
        {
          "name": "stdout",
          "text": "                   all         56        110    0.00468      0.695      0.023    0.00692\n",
          "output_type": "stream"
        },
        {
          "name": "stderr",
          "text": "\n",
          "output_type": "stream"
        },
        {
          "name": "stdout",
          "text": "\n      Epoch    GPU_mem   box_loss   cls_loss   dfl_loss  Instances       Size\n",
          "output_type": "stream"
        },
        {
          "name": "stderr",
          "text": "       3/50     0.761G      2.953       3.67      3.899         16        640: 100%|██████████| 52/52 [00:05<00:00, 10.01it/s]\n                 Class     Images  Instances      Box(P          R      mAP50  mAP50-95): 100%|██████████| 7/7 [00:00<00:00, 13.31it/s]",
          "output_type": "stream"
        },
        {
          "name": "stdout",
          "text": "                   all         56        110      0.365      0.203     0.0428     0.0134\n",
          "output_type": "stream"
        },
        {
          "name": "stderr",
          "text": "\n",
          "output_type": "stream"
        },
        {
          "name": "stdout",
          "text": "\n      Epoch    GPU_mem   box_loss   cls_loss   dfl_loss  Instances       Size\n",
          "output_type": "stream"
        },
        {
          "name": "stderr",
          "text": "       4/50     0.761G      2.877      3.487      3.734         14        640: 100%|██████████| 52/52 [00:05<00:00, 10.27it/s]\n                 Class     Images  Instances      Box(P          R      mAP50  mAP50-95): 100%|██████████| 7/7 [00:00<00:00, 12.52it/s]",
          "output_type": "stream"
        },
        {
          "name": "stdout",
          "text": "                   all         56        110      0.698     0.0808      0.036     0.0124\n",
          "output_type": "stream"
        },
        {
          "name": "stderr",
          "text": "\n",
          "output_type": "stream"
        },
        {
          "name": "stdout",
          "text": "\n      Epoch    GPU_mem   box_loss   cls_loss   dfl_loss  Instances       Size\n",
          "output_type": "stream"
        },
        {
          "name": "stderr",
          "text": "       5/50     0.761G      2.799      3.379      3.597         14        640: 100%|██████████| 52/52 [00:05<00:00, 10.16it/s]\n                 Class     Images  Instances      Box(P          R      mAP50  mAP50-95): 100%|██████████| 7/7 [00:00<00:00, 11.71it/s]",
          "output_type": "stream"
        },
        {
          "name": "stdout",
          "text": "                   all         56        110     0.0513       0.16      0.028    0.00776\n",
          "output_type": "stream"
        },
        {
          "name": "stderr",
          "text": "\n",
          "output_type": "stream"
        },
        {
          "name": "stdout",
          "text": "\n      Epoch    GPU_mem   box_loss   cls_loss   dfl_loss  Instances       Size\n",
          "output_type": "stream"
        },
        {
          "name": "stderr",
          "text": "       6/50     0.761G       2.81      3.303       3.51         14        640: 100%|██████████| 52/52 [00:05<00:00, 10.04it/s]\n                 Class     Images  Instances      Box(P          R      mAP50  mAP50-95): 100%|██████████| 7/7 [00:00<00:00, 13.29it/s]",
          "output_type": "stream"
        },
        {
          "name": "stdout",
          "text": "                   all         56        110     0.0498      0.222     0.0464     0.0122\n",
          "output_type": "stream"
        },
        {
          "name": "stderr",
          "text": "\n",
          "output_type": "stream"
        },
        {
          "name": "stdout",
          "text": "\n      Epoch    GPU_mem   box_loss   cls_loss   dfl_loss  Instances       Size\n",
          "output_type": "stream"
        },
        {
          "name": "stderr",
          "text": "       7/50     0.761G      2.756      3.329      3.466         12        640: 100%|██████████| 52/52 [00:05<00:00, 10.21it/s]\n                 Class     Images  Instances      Box(P          R      mAP50  mAP50-95): 100%|██████████| 7/7 [00:00<00:00, 13.34it/s]",
          "output_type": "stream"
        },
        {
          "name": "stdout",
          "text": "                   all         56        110     0.0516      0.272     0.0393     0.0101\n",
          "output_type": "stream"
        },
        {
          "name": "stderr",
          "text": "\n",
          "output_type": "stream"
        },
        {
          "name": "stdout",
          "text": "\n      Epoch    GPU_mem   box_loss   cls_loss   dfl_loss  Instances       Size\n",
          "output_type": "stream"
        },
        {
          "name": "stderr",
          "text": "       8/50     0.761G      2.638      3.229      3.359         14        640: 100%|██████████| 52/52 [00:05<00:00, 10.09it/s]\n                 Class     Images  Instances      Box(P          R      mAP50  mAP50-95): 100%|██████████| 7/7 [00:00<00:00, 14.13it/s]",
          "output_type": "stream"
        },
        {
          "name": "stdout",
          "text": "                   all         56        110      0.146        0.2     0.0978     0.0245\n",
          "output_type": "stream"
        },
        {
          "name": "stderr",
          "text": "\n      12/50     0.761G      2.431          3      3.077         20        640: 100%|██████████| 52/52 [00:05<00:00, 10.21it/s]\n                 Class     Images  Instances      Box(P          R      mAP50  mAP50-95): 100%|██████████| 7/7 [00:00<00:00, 14.69it/s]",
          "output_type": "stream"
        },
        {
          "name": "stdout",
          "text": "                   all         56        110      0.136      0.322       0.12     0.0446\n",
          "output_type": "stream"
        },
        {
          "name": "stderr",
          "text": "\n",
          "output_type": "stream"
        },
        {
          "name": "stdout",
          "text": "\n      Epoch    GPU_mem   box_loss   cls_loss   dfl_loss  Instances       Size\n",
          "output_type": "stream"
        },
        {
          "name": "stderr",
          "text": "      13/50     0.761G      2.403      2.968      3.057         13        640: 100%|██████████| 52/52 [00:05<00:00,  9.96it/s]\n                 Class     Images  Instances      Box(P          R      mAP50  mAP50-95): 100%|██████████| 7/7 [00:00<00:00, 14.55it/s]",
          "output_type": "stream"
        },
        {
          "name": "stdout",
          "text": "                   all         56        110      0.276      0.258      0.168     0.0691\n",
          "output_type": "stream"
        },
        {
          "name": "stderr",
          "text": "\n",
          "output_type": "stream"
        },
        {
          "name": "stdout",
          "text": "\n      Epoch    GPU_mem   box_loss   cls_loss   dfl_loss  Instances       Size\n",
          "output_type": "stream"
        },
        {
          "name": "stderr",
          "text": "      14/50     0.761G      2.386      2.945       2.98         18        640: 100%|██████████| 52/52 [00:05<00:00, 10.32it/s]\n                 Class     Images  Instances      Box(P          R      mAP50  mAP50-95): 100%|██████████| 7/7 [00:00<00:00, 14.18it/s]",
          "output_type": "stream"
        },
        {
          "name": "stdout",
          "text": "                   all         56        110      0.137      0.423      0.161     0.0582\n",
          "output_type": "stream"
        },
        {
          "name": "stderr",
          "text": "\n",
          "output_type": "stream"
        },
        {
          "name": "stdout",
          "text": "\n      Epoch    GPU_mem   box_loss   cls_loss   dfl_loss  Instances       Size\n",
          "output_type": "stream"
        },
        {
          "name": "stderr",
          "text": "      15/50     0.761G      2.377      2.898      2.982          6        640: 100%|██████████| 52/52 [00:05<00:00, 10.10it/s]\n                 Class     Images  Instances      Box(P          R      mAP50  mAP50-95): 100%|██████████| 7/7 [00:00<00:00, 14.31it/s]",
          "output_type": "stream"
        },
        {
          "name": "stdout",
          "text": "                   all         56        110      0.414      0.227      0.176     0.0585\n",
          "output_type": "stream"
        },
        {
          "name": "stderr",
          "text": "\n",
          "output_type": "stream"
        },
        {
          "name": "stdout",
          "text": "\n      Epoch    GPU_mem   box_loss   cls_loss   dfl_loss  Instances       Size\n",
          "output_type": "stream"
        },
        {
          "name": "stderr",
          "text": "      16/50     0.761G      2.298      2.853      2.904         17        640: 100%|██████████| 52/52 [00:05<00:00, 10.02it/s]\n                 Class     Images  Instances      Box(P          R      mAP50  mAP50-95): 100%|██████████| 7/7 [00:00<00:00, 13.50it/s]",
          "output_type": "stream"
        },
        {
          "name": "stdout",
          "text": "                   all         56        110      0.206      0.508      0.195     0.0732\n",
          "output_type": "stream"
        },
        {
          "name": "stderr",
          "text": "\n",
          "output_type": "stream"
        },
        {
          "name": "stdout",
          "text": "\n      Epoch    GPU_mem   box_loss   cls_loss   dfl_loss  Instances       Size\n",
          "output_type": "stream"
        },
        {
          "name": "stderr",
          "text": "      17/50     0.761G      2.336      2.875      2.943         11        640: 100%|██████████| 52/52 [00:05<00:00, 10.19it/s]\n                 Class     Images  Instances      Box(P          R      mAP50  mAP50-95): 100%|██████████| 7/7 [00:00<00:00, 13.38it/s]",
          "output_type": "stream"
        },
        {
          "name": "stdout",
          "text": "                   all         56        110      0.204      0.426      0.201     0.0758\n",
          "output_type": "stream"
        },
        {
          "name": "stderr",
          "text": "\n",
          "output_type": "stream"
        },
        {
          "name": "stdout",
          "text": "\n      Epoch    GPU_mem   box_loss   cls_loss   dfl_loss  Instances       Size\n",
          "output_type": "stream"
        },
        {
          "name": "stderr",
          "text": "      18/50     0.761G      2.296       2.87      2.906         10        640: 100%|██████████| 52/52 [00:05<00:00, 10.20it/s]\n                 Class     Images  Instances      Box(P          R      mAP50  mAP50-95): 100%|██████████| 7/7 [00:00<00:00, 15.18it/s]",
          "output_type": "stream"
        },
        {
          "name": "stdout",
          "text": "                   all         56        110      0.293      0.372      0.266      0.124\n",
          "output_type": "stream"
        },
        {
          "name": "stderr",
          "text": "\n",
          "output_type": "stream"
        },
        {
          "name": "stdout",
          "text": "\n      Epoch    GPU_mem   box_loss   cls_loss   dfl_loss  Instances       Size\n",
          "output_type": "stream"
        },
        {
          "name": "stderr",
          "text": "      19/50     0.761G      2.265      2.837      2.902         12        640: 100%|██████████| 52/52 [00:05<00:00, 10.17it/s]\n                 Class     Images  Instances      Box(P          R      mAP50  mAP50-95): 100%|██████████| 7/7 [00:00<00:00, 14.36it/s]",
          "output_type": "stream"
        },
        {
          "name": "stdout",
          "text": "                   all         56        110      0.267      0.364      0.286      0.133\n",
          "output_type": "stream"
        },
        {
          "name": "stderr",
          "text": "\n",
          "output_type": "stream"
        },
        {
          "name": "stdout",
          "text": "\n      Epoch    GPU_mem   box_loss   cls_loss   dfl_loss  Instances       Size\n",
          "output_type": "stream"
        },
        {
          "name": "stderr",
          "text": "      20/50     0.761G      2.225      2.805      2.824         10        640: 100%|██████████| 52/52 [00:05<00:00, 10.25it/s]\n                 Class     Images  Instances      Box(P          R      mAP50  mAP50-95): 100%|██████████| 7/7 [00:00<00:00, 14.63it/s]",
          "output_type": "stream"
        },
        {
          "name": "stdout",
          "text": "                   all         56        110       0.28       0.44      0.323      0.145\n",
          "output_type": "stream"
        },
        {
          "name": "stderr",
          "text": "\n",
          "output_type": "stream"
        },
        {
          "name": "stdout",
          "text": "\n      Epoch    GPU_mem   box_loss   cls_loss   dfl_loss  Instances       Size\n",
          "output_type": "stream"
        },
        {
          "name": "stderr",
          "text": "      21/50     0.761G      2.215      2.739       2.79         19        640: 100%|██████████| 52/52 [00:05<00:00, 10.20it/s]\n                 Class     Images  Instances      Box(P          R      mAP50  mAP50-95): 100%|██████████| 7/7 [00:00<00:00, 14.28it/s]",
          "output_type": "stream"
        },
        {
          "name": "stdout",
          "text": "                   all         56        110        0.3      0.434      0.314      0.152\n",
          "output_type": "stream"
        },
        {
          "name": "stderr",
          "text": "\n",
          "output_type": "stream"
        },
        {
          "name": "stdout",
          "text": "\n      Epoch    GPU_mem   box_loss   cls_loss   dfl_loss  Instances       Size\n",
          "output_type": "stream"
        },
        {
          "name": "stderr",
          "text": "      22/50     0.761G      2.156      2.723      2.755          4        640: 100%|██████████| 52/52 [00:05<00:00, 10.15it/s]\n                 Class     Images  Instances      Box(P          R      mAP50  mAP50-95): 100%|██████████| 7/7 [00:00<00:00, 13.91it/s]",
          "output_type": "stream"
        },
        {
          "name": "stdout",
          "text": "                   all         56        110       0.34       0.33      0.306      0.143\n",
          "output_type": "stream"
        },
        {
          "name": "stderr",
          "text": "\n",
          "output_type": "stream"
        },
        {
          "name": "stdout",
          "text": "\n      Epoch    GPU_mem   box_loss   cls_loss   dfl_loss  Instances       Size\n",
          "output_type": "stream"
        },
        {
          "name": "stderr",
          "text": "      23/50     0.761G      2.088      2.651      2.704         21        640: 100%|██████████| 52/52 [00:05<00:00, 10.26it/s]\n                 Class     Images  Instances      Box(P          R      mAP50  mAP50-95): 100%|██████████| 7/7 [00:00<00:00, 15.13it/s]",
          "output_type": "stream"
        },
        {
          "name": "stdout",
          "text": "                   all         56        110      0.583      0.274      0.356      0.173\n",
          "output_type": "stream"
        },
        {
          "name": "stderr",
          "text": "\n",
          "output_type": "stream"
        },
        {
          "name": "stdout",
          "text": "\n      Epoch    GPU_mem   box_loss   cls_loss   dfl_loss  Instances       Size\n",
          "output_type": "stream"
        },
        {
          "name": "stderr",
          "text": "      24/50     0.761G      2.119       2.58      2.686         18        640: 100%|██████████| 52/52 [00:05<00:00, 10.21it/s]\n                 Class     Images  Instances      Box(P          R      mAP50  mAP50-95): 100%|██████████| 7/7 [00:00<00:00, 15.32it/s]\n",
          "output_type": "stream"
        },
        {
          "name": "stdout",
          "text": "                   all         56        110      0.344       0.33      0.324      0.163\n\n      Epoch    GPU_mem   box_loss   cls_loss   dfl_loss  Instances       Size\n",
          "output_type": "stream"
        },
        {
          "name": "stderr",
          "text": "      25/50     0.761G      2.063      2.544      2.639         12        640: 100%|██████████| 52/52 [00:05<00:00,  9.97it/s]\n                 Class     Images  Instances      Box(P          R      mAP50  mAP50-95): 100%|██████████| 7/7 [00:00<00:00, 13.24it/s]",
          "output_type": "stream"
        },
        {
          "name": "stdout",
          "text": "                   all         56        110      0.285      0.335       0.28      0.133\n",
          "output_type": "stream"
        },
        {
          "name": "stderr",
          "text": "\n",
          "output_type": "stream"
        },
        {
          "name": "stdout",
          "text": "\n      Epoch    GPU_mem   box_loss   cls_loss   dfl_loss  Instances       Size\n",
          "output_type": "stream"
        },
        {
          "name": "stderr",
          "text": "      26/50     0.761G      2.054      2.554      2.652          8        640: 100%|██████████| 52/52 [00:05<00:00, 10.28it/s]\n                 Class     Images  Instances      Box(P          R      mAP50  mAP50-95): 100%|██████████| 7/7 [00:00<00:00, 14.66it/s]",
          "output_type": "stream"
        },
        {
          "name": "stdout",
          "text": "                   all         56        110      0.493      0.505      0.445      0.219\n",
          "output_type": "stream"
        },
        {
          "name": "stderr",
          "text": "\n",
          "output_type": "stream"
        },
        {
          "name": "stdout",
          "text": "\n      Epoch    GPU_mem   box_loss   cls_loss   dfl_loss  Instances       Size\n",
          "output_type": "stream"
        },
        {
          "name": "stderr",
          "text": "      27/50     0.761G      2.034       2.51      2.641         13        640: 100%|██████████| 52/52 [00:05<00:00, 10.25it/s]\n                 Class     Images  Instances      Box(P          R      mAP50  mAP50-95): 100%|██████████| 7/7 [00:00<00:00, 15.14it/s]\n",
          "output_type": "stream"
        },
        {
          "name": "stdout",
          "text": "                   all         56        110      0.536      0.384      0.457       0.23\n\n      Epoch    GPU_mem   box_loss   cls_loss   dfl_loss  Instances       Size\n",
          "output_type": "stream"
        },
        {
          "name": "stderr",
          "text": "      28/50     0.761G      1.992      2.521      2.596         13        640: 100%|██████████| 52/52 [00:05<00:00, 10.15it/s]\n                 Class     Images  Instances      Box(P          R      mAP50  mAP50-95): 100%|██████████| 7/7 [00:00<00:00, 15.31it/s]\n",
          "output_type": "stream"
        },
        {
          "name": "stdout",
          "text": "                   all         56        110      0.377      0.402      0.369      0.196\n\n      Epoch    GPU_mem   box_loss   cls_loss   dfl_loss  Instances       Size\n",
          "output_type": "stream"
        },
        {
          "name": "stderr",
          "text": "      29/50     0.759G      2.056       2.59      2.634         13        640: 100%|██████████| 52/52 [00:05<00:00, 10.26it/s]\n                 Class     Images  Instances      Box(P          R      mAP50  mAP50-95): 100%|██████████| 7/7 [00:00<00:00, 15.75it/s]\n",
          "output_type": "stream"
        },
        {
          "name": "stdout",
          "text": "                   all         56        110      0.284      0.451      0.309      0.163\n\n      Epoch    GPU_mem   box_loss   cls_loss   dfl_loss  Instances       Size\n",
          "output_type": "stream"
        },
        {
          "name": "stderr",
          "text": "      30/50     0.761G      2.013      2.445      2.551         12        640: 100%|██████████| 52/52 [00:05<00:00,  9.90it/s]\n                 Class     Images  Instances      Box(P          R      mAP50  mAP50-95): 100%|██████████| 7/7 [00:00<00:00, 15.70it/s]",
          "output_type": "stream"
        },
        {
          "name": "stdout",
          "text": "                   all         56        110      0.369      0.476      0.345      0.179\n",
          "output_type": "stream"
        },
        {
          "name": "stderr",
          "text": "\n",
          "output_type": "stream"
        },
        {
          "name": "stdout",
          "text": "\n      Epoch    GPU_mem   box_loss   cls_loss   dfl_loss  Instances       Size\n",
          "output_type": "stream"
        },
        {
          "name": "stderr",
          "text": "      31/50     0.761G      1.942       2.42      2.528         17        640: 100%|██████████| 52/52 [00:05<00:00, 10.31it/s]\n                 Class     Images  Instances      Box(P          R      mAP50  mAP50-95): 100%|██████████| 7/7 [00:00<00:00, 15.78it/s]",
          "output_type": "stream"
        },
        {
          "name": "stdout",
          "text": "                   all         56        110      0.462      0.447      0.423      0.211\n",
          "output_type": "stream"
        },
        {
          "name": "stderr",
          "text": "\n",
          "output_type": "stream"
        },
        {
          "name": "stdout",
          "text": "\n      Epoch    GPU_mem   box_loss   cls_loss   dfl_loss  Instances       Size\n",
          "output_type": "stream"
        },
        {
          "name": "stderr",
          "text": "      32/50     0.761G      1.955      2.461      2.534         17        640: 100%|██████████| 52/52 [00:05<00:00, 10.19it/s]\n                 Class     Images  Instances      Box(P          R      mAP50  mAP50-95): 100%|██████████| 7/7 [00:00<00:00, 15.25it/s]\n",
          "output_type": "stream"
        },
        {
          "name": "stdout",
          "text": "                   all         56        110      0.607      0.367      0.484      0.259\n\n      Epoch    GPU_mem   box_loss   cls_loss   dfl_loss  Instances       Size\n",
          "output_type": "stream"
        },
        {
          "name": "stderr",
          "text": "      33/50     0.759G      1.901      2.352      2.466         12        640: 100%|██████████| 52/52 [00:05<00:00, 10.14it/s]\n                 Class     Images  Instances      Box(P          R      mAP50  mAP50-95): 100%|██████████| 7/7 [00:00<00:00, 15.26it/s]\n",
          "output_type": "stream"
        },
        {
          "name": "stdout",
          "text": "                   all         56        110      0.508      0.433      0.429      0.255\n\n      Epoch    GPU_mem   box_loss   cls_loss   dfl_loss  Instances       Size\n",
          "output_type": "stream"
        },
        {
          "name": "stderr",
          "text": "      34/50     0.759G      1.885      2.336      2.468         20        640: 100%|██████████| 52/52 [00:05<00:00, 10.32it/s]\n                 Class     Images  Instances      Box(P          R      mAP50  mAP50-95): 100%|██████████| 7/7 [00:00<00:00, 15.47it/s]\n",
          "output_type": "stream"
        },
        {
          "name": "stdout",
          "text": "                   all         56        110      0.438      0.465      0.402      0.223\n\n      Epoch    GPU_mem   box_loss   cls_loss   dfl_loss  Instances       Size\n",
          "output_type": "stream"
        },
        {
          "name": "stderr",
          "text": "      35/50     0.761G      1.895      2.324      2.459         18        640: 100%|██████████| 52/52 [00:05<00:00, 10.06it/s]\n                 Class     Images  Instances      Box(P          R      mAP50  mAP50-95): 100%|██████████| 7/7 [00:00<00:00, 15.12it/s]",
          "output_type": "stream"
        },
        {
          "name": "stdout",
          "text": "                   all         56        110        0.4       0.45      0.376      0.188\n",
          "output_type": "stream"
        },
        {
          "name": "stderr",
          "text": "\n",
          "output_type": "stream"
        },
        {
          "name": "stdout",
          "text": "\n      Epoch    GPU_mem   box_loss   cls_loss   dfl_loss  Instances       Size\n",
          "output_type": "stream"
        },
        {
          "name": "stderr",
          "text": "      36/50     0.761G      1.869      2.311      2.443         13        640: 100%|██████████| 52/52 [00:05<00:00, 10.13it/s]\n                 Class     Images  Instances      Box(P          R      mAP50  mAP50-95): 100%|██████████| 7/7 [00:00<00:00, 15.47it/s]\n",
          "output_type": "stream"
        },
        {
          "name": "stdout",
          "text": "                   all         56        110      0.432      0.451      0.435      0.234\n\n      Epoch    GPU_mem   box_loss   cls_loss   dfl_loss  Instances       Size\n",
          "output_type": "stream"
        },
        {
          "name": "stderr",
          "text": "      37/50     0.761G      1.839      2.252       2.42         10        640: 100%|██████████| 52/52 [00:05<00:00, 10.19it/s]\n                 Class     Images  Instances      Box(P          R      mAP50  mAP50-95): 100%|██████████| 7/7 [00:00<00:00, 15.52it/s]",
          "output_type": "stream"
        },
        {
          "name": "stdout",
          "text": "                   all         56        110      0.437      0.436      0.428       0.25\n",
          "output_type": "stream"
        },
        {
          "name": "stderr",
          "text": "\n",
          "output_type": "stream"
        },
        {
          "name": "stdout",
          "text": "\n      Epoch    GPU_mem   box_loss   cls_loss   dfl_loss  Instances       Size\n",
          "output_type": "stream"
        },
        {
          "name": "stderr",
          "text": "      39/50     0.759G      1.766      2.213      2.343         18        640: 100%|██████████| 52/52 [00:05<00:00, 10.19it/s]\n                 Class     Images  Instances      Box(P          R      mAP50  mAP50-95): 100%|██████████| 7/7 [00:00<00:00, 14.30it/s]",
          "output_type": "stream"
        },
        {
          "name": "stdout",
          "text": "                   all         56        110      0.487      0.509      0.499      0.296\n",
          "output_type": "stream"
        },
        {
          "name": "stderr",
          "text": "\n",
          "output_type": "stream"
        },
        {
          "name": "stdout",
          "text": "\n      Epoch    GPU_mem   box_loss   cls_loss   dfl_loss  Instances       Size\n",
          "output_type": "stream"
        },
        {
          "name": "stderr",
          "text": "      40/50     0.759G      1.832      2.309       2.42         11        640: 100%|██████████| 52/52 [00:05<00:00, 10.37it/s]\n                 Class     Images  Instances      Box(P          R      mAP50  mAP50-95): 100%|██████████| 7/7 [00:00<00:00, 15.80it/s]\n",
          "output_type": "stream"
        },
        {
          "name": "stdout",
          "text": "                   all         56        110      0.573      0.469      0.491      0.271\nClosing dataloader mosaic\n\u001b[34m\u001b[1malbumentations: \u001b[0mBlur(p=0.01, blur_limit=(3, 7)), MedianBlur(p=0.01, blur_limit=(3, 7)), ToGray(p=0.01), CLAHE(p=0.01, clip_limit=(1, 4.0), tile_grid_size=(8, 8))\n\n      Epoch    GPU_mem   box_loss   cls_loss   dfl_loss  Instances       Size\n",
          "output_type": "stream"
        },
        {
          "name": "stderr",
          "text": "      41/50     0.759G      1.621      2.578      2.334          5        640: 100%|██████████| 52/52 [00:05<00:00,  9.48it/s]\n                 Class     Images  Instances      Box(P          R      mAP50  mAP50-95): 100%|██████████| 7/7 [00:00<00:00, 14.54it/s]",
          "output_type": "stream"
        },
        {
          "name": "stdout",
          "text": "                   all         56        110      0.596      0.462      0.543       0.32\n",
          "output_type": "stream"
        },
        {
          "name": "stderr",
          "text": "\n",
          "output_type": "stream"
        },
        {
          "name": "stdout",
          "text": "\n      Epoch    GPU_mem   box_loss   cls_loss   dfl_loss  Instances       Size\n",
          "output_type": "stream"
        },
        {
          "name": "stderr",
          "text": "      42/50     0.761G      1.644      2.452      2.369          6        640: 100%|██████████| 52/52 [00:05<00:00, 10.18it/s]\n                 Class     Images  Instances      Box(P          R      mAP50  mAP50-95): 100%|██████████| 7/7 [00:00<00:00, 14.91it/s]\n",
          "output_type": "stream"
        },
        {
          "name": "stdout",
          "text": "                   all         56        110      0.465      0.572      0.502      0.309\n\n      Epoch    GPU_mem   box_loss   cls_loss   dfl_loss  Instances       Size\n",
          "output_type": "stream"
        },
        {
          "name": "stderr",
          "text": "      43/50     0.761G      1.574      2.353      2.247          8        640: 100%|██████████| 52/52 [00:04<00:00, 10.60it/s]\n                 Class     Images  Instances      Box(P          R      mAP50  mAP50-95): 100%|██████████| 7/7 [00:00<00:00, 14.98it/s]",
          "output_type": "stream"
        },
        {
          "name": "stdout",
          "text": "                   all         56        110      0.526      0.459      0.512      0.323\n",
          "output_type": "stream"
        },
        {
          "name": "stderr",
          "text": "\n",
          "output_type": "stream"
        },
        {
          "name": "stdout",
          "text": "\n      Epoch    GPU_mem   box_loss   cls_loss   dfl_loss  Instances       Size\n",
          "output_type": "stream"
        },
        {
          "name": "stderr",
          "text": "      44/50     0.759G      1.535      2.216      2.254          3        640: 100%|██████████| 52/52 [00:05<00:00, 10.13it/s]\n                 Class     Images  Instances      Box(P          R      mAP50  mAP50-95): 100%|██████████| 7/7 [00:00<00:00, 15.61it/s]\n",
          "output_type": "stream"
        },
        {
          "name": "stdout",
          "text": "                   all         56        110      0.667      0.457      0.579      0.349\n\n      Epoch    GPU_mem   box_loss   cls_loss   dfl_loss  Instances       Size\n",
          "output_type": "stream"
        },
        {
          "name": "stderr",
          "text": "      45/50     0.761G      1.539      2.206      2.248         11        640: 100%|██████████| 52/52 [00:04<00:00, 10.40it/s]\n                 Class     Images  Instances      Box(P          R      mAP50  mAP50-95): 100%|██████████| 7/7 [00:00<00:00, 14.84it/s]",
          "output_type": "stream"
        },
        {
          "name": "stdout",
          "text": "                   all         56        110      0.576      0.522      0.559      0.348\n",
          "output_type": "stream"
        },
        {
          "name": "stderr",
          "text": "\n",
          "output_type": "stream"
        },
        {
          "name": "stdout",
          "text": "\n      Epoch    GPU_mem   box_loss   cls_loss   dfl_loss  Instances       Size\n",
          "output_type": "stream"
        },
        {
          "name": "stderr",
          "text": "      46/50     0.759G      1.495       2.17      2.186         10        640: 100%|██████████| 52/52 [00:04<00:00, 10.44it/s]\n                 Class     Images  Instances      Box(P          R      mAP50  mAP50-95): 100%|██████████| 7/7 [00:00<00:00, 15.78it/s]",
          "output_type": "stream"
        },
        {
          "name": "stdout",
          "text": "                   all         56        110      0.606       0.51      0.544      0.346\n",
          "output_type": "stream"
        },
        {
          "name": "stderr",
          "text": "\n",
          "output_type": "stream"
        },
        {
          "name": "stdout",
          "text": "\n      Epoch    GPU_mem   box_loss   cls_loss   dfl_loss  Instances       Size\n",
          "output_type": "stream"
        },
        {
          "name": "stderr",
          "text": "      47/50     0.759G      1.541      2.177      2.266          6        640: 100%|██████████| 52/52 [00:04<00:00, 10.47it/s]\n                 Class     Images  Instances      Box(P          R      mAP50  mAP50-95): 100%|██████████| 7/7 [00:00<00:00, 14.34it/s]",
          "output_type": "stream"
        },
        {
          "name": "stdout",
          "text": "                   all         56        110      0.663        0.5      0.567      0.374\n",
          "output_type": "stream"
        },
        {
          "name": "stderr",
          "text": "\n",
          "output_type": "stream"
        },
        {
          "name": "stdout",
          "text": "\n      Epoch    GPU_mem   box_loss   cls_loss   dfl_loss  Instances       Size\n",
          "output_type": "stream"
        },
        {
          "name": "stderr",
          "text": "      48/50     0.761G      1.513      2.131      2.208          6        640: 100%|██████████| 52/52 [00:05<00:00, 10.37it/s]\n                 Class     Images  Instances      Box(P          R      mAP50  mAP50-95): 100%|██████████| 7/7 [00:00<00:00, 15.22it/s]\n",
          "output_type": "stream"
        },
        {
          "name": "stdout",
          "text": "                   all         56        110      0.663      0.491      0.582      0.374\n\n      Epoch    GPU_mem   box_loss   cls_loss   dfl_loss  Instances       Size\n",
          "output_type": "stream"
        },
        {
          "name": "stderr",
          "text": "      49/50     0.759G      1.485      2.101      2.173          3        640: 100%|██████████| 52/52 [00:05<00:00, 10.11it/s]\n                 Class     Images  Instances      Box(P          R      mAP50  mAP50-95): 100%|██████████| 7/7 [00:00<00:00, 14.99it/s]",
          "output_type": "stream"
        },
        {
          "name": "stdout",
          "text": "                   all         56        110      0.649      0.544      0.601      0.385\n",
          "output_type": "stream"
        },
        {
          "name": "stderr",
          "text": "\n",
          "output_type": "stream"
        },
        {
          "name": "stdout",
          "text": "\n      Epoch    GPU_mem   box_loss   cls_loss   dfl_loss  Instances       Size\n",
          "output_type": "stream"
        },
        {
          "name": "stderr",
          "text": "      50/50     0.759G        1.5       2.12      2.203          5        640: 100%|██████████| 52/52 [00:05<00:00, 10.27it/s]\n                 Class     Images  Instances      Box(P          R      mAP50  mAP50-95): 100%|██████████| 7/7 [00:00<00:00, 14.55it/s]\n",
          "output_type": "stream"
        },
        {
          "name": "stdout",
          "text": "                   all         56        110      0.563      0.572      0.594       0.38\n\n50 epochs completed in 0.096 hours.\nOptimizer stripped from runs/detect/train/weights/last.pt, 6.2MB\nOptimizer stripped from runs/detect/train/weights/best.pt, 6.2MB\n\nValidating runs/detect/train/weights/best.pt...\nUltralytics YOLOv8.1.30 🚀 Python-3.10.13 torch-2.1.2 CUDA:0 (Tesla P100-PCIE-16GB, 16276MiB)\nYOLOv8n summary (fused): 168 layers, 3006233 parameters, 0 gradients, 8.1 GFLOPs\n",
          "output_type": "stream"
        },
        {
          "name": "stderr",
          "text": "                 Class     Images  Instances      Box(P          R      mAP50  mAP50-95): 100%|██████████| 7/7 [00:01<00:00,  5.60it/s]\n",
          "output_type": "stream"
        },
        {
          "name": "stdout",
          "text": "                   all         56        110      0.653      0.535      0.601      0.386\n                 apple         56         33      0.604      0.606      0.665       0.46\n                banana         56         36      0.667      0.389      0.449      0.218\n                orange         56         41      0.689       0.61       0.69      0.479\nSpeed: 0.2ms preprocess, 3.1ms inference, 0.0ms loss, 7.9ms postprocess per image\nResults saved to \u001b[1mruns/detect/train\u001b[0m\n",
          "output_type": "stream"
        },
        {
          "output_type": "display_data",
          "data": {
            "text/plain": "VBox(children=(Label(value='9.690 MB of 9.690 MB uploaded\\r'), FloatProgress(value=1.0, max=1.0)))",
            "application/vnd.jupyter.widget-view+json": {
              "version_major": 2,
              "version_minor": 0,
              "model_id": ""
            }
          },
          "metadata": {}
        },
        {
          "output_type": "display_data",
          "data": {
            "text/plain": "<IPython.core.display.HTML object>",
            "text/html": "<style>\n    table.wandb td:nth-child(1) { padding: 0 10px; text-align: left ; width: auto;} td:nth-child(2) {text-align: left ; width: 100%}\n    .wandb-row { display: flex; flex-direction: row; flex-wrap: wrap; justify-content: flex-start; width: 100% }\n    .wandb-col { display: flex; flex-direction: column; flex-basis: 100%; flex: 1; padding: 10px; }\n    </style>\n<div class=\"wandb-row\"><div class=\"wandb-col\"><h3>Run history:</h3><br/><table class=\"wandb\"><tr><td>lr/pg0</td><td>▃▆████▇▇▇▇▇▇▆▆▆▆▅▅▅▅▅▅▄▄▄▄▄▃▃▃▃▃▂▂▂▂▂▁▁▁</td></tr><tr><td>lr/pg1</td><td>▃▆████▇▇▇▇▇▇▆▆▆▆▅▅▅▅▅▅▄▄▄▄▄▃▃▃▃▃▂▂▂▂▂▁▁▁</td></tr><tr><td>lr/pg2</td><td>▃▆████▇▇▇▇▇▇▆▆▆▆▅▅▅▅▅▅▄▄▄▄▄▃▃▃▃▃▂▂▂▂▂▁▁▁</td></tr><tr><td>metrics/mAP50(B)</td><td>▁▁▁▁▁▁▂▃▂▂▃▃▃▃▄▄▅▅▅▅▆▆▅▅▆▇▆▆▆▆▆▇▇▇▇█▇███</td></tr><tr><td>metrics/mAP50-95(B)</td><td>▁▁▁▁▁▁▁▂▂▂▂▂▂▂▃▃▄▄▄▄▅▅▅▄▅▆▆▅▅▆▆▆▇▇▇▇▇███</td></tr><tr><td>metrics/precision(B)</td><td>▁▁▅█▁▁▂▃▂▂▄▂▃▃▄▄▄▄▇▄▆▆▅▄▆▇▆▅▅▅▅▆▇▆▆█▇███</td></tr><tr><td>metrics/recall(B)</td><td>█▇▂▁▂▃▂▃▂▄▃▅▆▅▄▄▅▄▃▄▅▄▄▅▅▄▅▅▅▅▅▆▅▆▅▅▆▅▅▆</td></tr><tr><td>model/GFLOPs</td><td>▁</td></tr><tr><td>model/parameters</td><td>▁</td></tr><tr><td>model/speed_PyTorch(ms)</td><td>▁</td></tr><tr><td>train/box_loss</td><td>████▇▇▆▆▆▅▅▅▅▅▅▅▄▄▄▄▄▄▃▄▃▃▃▃▃▃▃▂▂▂▁▁▁▁▁▁</td></tr><tr><td>train/cls_loss</td><td>██▇▆▅▆▅▅▅▄▄▄▄▄▄▄▃▃▃▃▃▂▃▃▂▂▂▂▂▁▁▁▃▂▂▁▁▁▁▁</td></tr><tr><td>train/dfl_loss</td><td>██▇▆▆▅▅▅▄▄▄▄▃▄▄▃▃▃▃▃▃▃▂▃▂▂▂▂▂▂▂▂▂▂▁▁▁▁▁▁</td></tr><tr><td>val/box_loss</td><td>▇████▇▇▇▆▅▅▅▅▅▄▄▄▄▄▄▃▃▃▃▃▃▃▃▃▂▂▂▂▂▂▁▁▁▁▁</td></tr><tr><td>val/cls_loss</td><td>▂▂█▃▅▂▂▂▁▂▂▂▂▂▁▁▂▁▁▁▁▁▁▁▁▁▁▁▁▁▁▁▁▁▁▁▁▁▁▁</td></tr><tr><td>val/dfl_loss</td><td>████▇▆▆▅▅▄▄▄▄▃▃▃▃▃▃▃▂▂▂▂▂▂▂▂▂▂▂▂▁▁▁▁▁▁▁▁</td></tr></table><br/></div><div class=\"wandb-col\"><h3>Run summary:</h3><br/><table class=\"wandb\"><tr><td>lr/pg0</td><td>7e-05</td></tr><tr><td>lr/pg1</td><td>7e-05</td></tr><tr><td>lr/pg2</td><td>7e-05</td></tr><tr><td>metrics/mAP50(B)</td><td>0.60131</td></tr><tr><td>metrics/mAP50-95(B)</td><td>0.38551</td></tr><tr><td>metrics/precision(B)</td><td>0.65299</td></tr><tr><td>metrics/recall(B)</td><td>0.53481</td></tr><tr><td>model/GFLOPs</td><td>8.196</td></tr><tr><td>model/parameters</td><td>3011433</td></tr><tr><td>model/speed_PyTorch(ms)</td><td>12.962</td></tr><tr><td>train/box_loss</td><td>1.50031</td></tr><tr><td>train/cls_loss</td><td>2.11982</td></tr><tr><td>train/dfl_loss</td><td>2.20307</td></tr><tr><td>val/box_loss</td><td>1.52169</td></tr><tr><td>val/cls_loss</td><td>1.90466</td></tr><tr><td>val/dfl_loss</td><td>2.26181</td></tr></table><br/></div></div>"
          },
          "metadata": {}
        },
        {
          "output_type": "display_data",
          "data": {
            "text/plain": "<IPython.core.display.HTML object>",
            "text/html": " View run <strong style=\"color:#cdcd00\">train</strong> at: <a href='https://wandb.ai/coinershot/YOLOv8/runs/banw1lc0' target=\"_blank\">https://wandb.ai/coinershot/YOLOv8/runs/banw1lc0</a><br/>Synced 6 W&B file(s), 24 media file(s), 5 artifact file(s) and 0 other file(s)"
          },
          "metadata": {}
        },
        {
          "output_type": "display_data",
          "data": {
            "text/plain": "<IPython.core.display.HTML object>",
            "text/html": "Find logs at: <code>./wandb/run-20240321_184136-banw1lc0/logs</code>"
          },
          "metadata": {}
        }
      ]
    },
    {
      "cell_type": "code",
      "source": [
        "Test_image_results = model('/kaggle/working/object_detection/test/images/apple_77.jpg')"
      ],
      "metadata": {
        "execution": {
          "iopub.status.busy": "2024-03-21T18:48:20.727626Z",
          "iopub.execute_input": "2024-03-21T18:48:20.727959Z",
          "iopub.status.idle": "2024-03-21T18:48:20.921706Z",
          "shell.execute_reply.started": "2024-03-21T18:48:20.727907Z",
          "shell.execute_reply": "2024-03-21T18:48:20.920819Z"
        },
        "trusted": true,
        "id": "1D4XhSpM1lYL",
        "outputId": "7084016f-cd09-457b-fa54-da283ec517ef"
      },
      "execution_count": null,
      "outputs": [
        {
          "name": "stdout",
          "text": "\nimage 1/1 /kaggle/working/object_detection/test/images/apple_77.jpg: 512x640 3 apples, 55.1ms\nSpeed: 1.8ms preprocess, 55.1ms inference, 1.7ms postprocess per image at shape (1, 3, 512, 640)\n",
          "output_type": "stream"
        }
      ]
    },
    {
      "cell_type": "code",
      "source": [
        "Test_image_results[0].boxes.data.tolist()"
      ],
      "metadata": {
        "execution": {
          "iopub.status.busy": "2024-03-21T18:48:20.923079Z",
          "iopub.execute_input": "2024-03-21T18:48:20.923435Z",
          "iopub.status.idle": "2024-03-21T18:48:20.930452Z",
          "shell.execute_reply.started": "2024-03-21T18:48:20.923403Z",
          "shell.execute_reply": "2024-03-21T18:48:20.929550Z"
        },
        "trusted": true,
        "id": "DRQ7h5HL1lYL",
        "outputId": "a638c47b-d6de-46eb-cdf5-76aeffb39350"
      },
      "execution_count": null,
      "outputs": [
        {
          "execution_count": 17,
          "output_type": "execute_result",
          "data": {
            "text/plain": "[[126.56220245361328,\n  135.24916076660156,\n  213.52859497070312,\n  228.41244506835938,\n  0.7141468524932861,\n  0.0],\n [210.76666259765625,\n  141.21092224121094,\n  300.0,\n  229.0,\n  0.6847565770149231,\n  0.0],\n [71.64437103271484,\n  63.38236999511719,\n  167.55747985839844,\n  157.936279296875,\n  0.32651612162590027,\n  0.0]]"
          },
          "metadata": {}
        }
      ]
    },
    {
      "cell_type": "code",
      "source": [
        "import cv2\n",
        "import matplotlib.pyplot as plt\n",
        "\n",
        "image = cv2.imread('/kaggle/input/baoooo/bao.jpeg')\n",
        "copy_image = cv2.cvtColor(image, cv2.COLOR_BGR2RGB)\n",
        "img_dict = {0:'apple',1:'banana',2:'orange'}\n",
        "\n",
        "for bbox in Test_image_results[0].boxes.data.tolist():\n",
        "    x1, y1, x2, y2,confidence,label = bbox\n",
        "\n",
        "    cv2.rectangle(image, (int(x1), int(y1)), (int(x2), int(y2)), (0, 255, 0), 2)\n",
        "\n",
        "    cv2.putText(image, img_dict[int(label)], (int(x1), int(y1 - 10)), cv2.FONT_HERSHEY_SIMPLEX, 0.9, (0, 255, 0), 2)\n",
        "\n",
        "image_rgb = cv2.cvtColor(image, cv2.COLOR_BGR2RGB)"
      ],
      "metadata": {
        "execution": {
          "iopub.status.busy": "2024-03-21T18:51:58.559541Z",
          "iopub.execute_input": "2024-03-21T18:51:58.559922Z",
          "iopub.status.idle": "2024-03-21T18:51:58.569436Z",
          "shell.execute_reply.started": "2024-03-21T18:51:58.559894Z",
          "shell.execute_reply": "2024-03-21T18:51:58.568582Z"
        },
        "trusted": true,
        "id": "oxZ6owo41lYM"
      },
      "execution_count": null,
      "outputs": []
    },
    {
      "cell_type": "code",
      "source": [
        "plt.imshow(image_rgb)"
      ],
      "metadata": {
        "execution": {
          "iopub.status.busy": "2024-03-21T18:52:01.529024Z",
          "iopub.execute_input": "2024-03-21T18:52:01.529425Z",
          "iopub.status.idle": "2024-03-21T18:52:01.914275Z",
          "shell.execute_reply.started": "2024-03-21T18:52:01.529398Z",
          "shell.execute_reply": "2024-03-21T18:52:01.913383Z"
        },
        "trusted": true,
        "id": "bEIzhec91lYM",
        "outputId": "b24512d3-d171-4ffb-fc2e-cf1bcd50df56"
      },
      "execution_count": null,
      "outputs": [
        {
          "execution_count": 24,
          "output_type": "execute_result",
          "data": {
            "text/plain": "<matplotlib.image.AxesImage at 0x7f6c5ce4b250>"
          },
          "metadata": {}
        },
        {
          "output_type": "display_data",
          "data": {
            "text/plain": "<Figure size 640x480 with 1 Axes>",
            "image/png": "[encoded data removed]"
          },
          "metadata": {}
        }
      ]
    },
    {
      "cell_type": "code",
      "source": [],
      "metadata": {
        "id": "L2NusZzF1lYM"
      },
      "execution_count": null,
      "outputs": []
    }
  ]
}